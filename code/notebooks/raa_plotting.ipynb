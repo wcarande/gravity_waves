{
 "cells": [
  {
   "cell_type": "markdown",
   "metadata": {},
   "source": [
    "# AIM CIPS Gravity Wave Identification\n",
    "\n",
    "For information on GLCM Texture features:\n",
    "https://scikit-image.org/docs/dev/auto_examples/features_detection/plot_glcm.html\n",
    "\n",
    "Using texture analysis for sea ice identification:\n",
    "https://www.asprs.org/wp-content/uploads/pers/1991journal/apr/1991_apr_385-395.pdf"
   ]
  },
  {
   "cell_type": "code",
   "execution_count": 1,
   "metadata": {},
   "outputs": [
    {
     "name": "stderr",
     "output_type": "stream",
     "text": [
      "Using TensorFlow backend.\n"
     ]
    }
   ],
   "source": [
    "import os\n",
    "import imageio\n",
    "import itertools\n",
    "import warnings\n",
    "\n",
    "import numpy as np\n",
    "import pandas as pd\n",
    "import matplotlib.pyplot as plt\n",
    "import seaborn as sns\n",
    "import ipywidgets as widgets\n",
    "\n",
    "from ipywidgets import interact, interact_manual\n",
    "from sklearn.model_selection import train_test_split\n",
    "from imblearn.over_sampling import SMOTE\n",
    "from sklearn.metrics import confusion_matrix\n",
    "from sklearn.ensemble import RandomForestClassifier\n",
    "from sklearn.ensemble import BaggingClassifier\n",
    "from sklearn.neighbors import KNeighborsClassifier\n",
    "\n",
    "%matplotlib inline\n",
    "plt.rcParams['figure.figsize'] = [10, 5]\n",
    "plt.rcParams.update({'font.size': 15})\n",
    "\n",
    "warnings.filterwarnings('ignore')"
   ]
  },
  {
   "cell_type": "code",
   "execution_count": 2,
   "metadata": {},
   "outputs": [],
   "source": [
    "image_path = '../../data/north_2016/l2a/scene_images/'\n",
    "image_list = [os.path.join(image_path, f) for f in os.listdir(image_path)]"
   ]
  },
  {
   "cell_type": "markdown",
   "metadata": {},
   "source": [
    "## Data\n",
    "\n",
    "I hand-labeled data in a CSV with what I thought were wave-like features, however, this step should be re-done by somebody who has more knowledge of gravity waves for better accuracy.\n",
    "\n",
    "Labels:\n",
    "* 0 - nothing noteable\n",
    "* 1 - wave-like\n",
    "* 2 - red noisy\n",
    "* 5 - bad pixels\n",
    "* 6 - red/blue split\n",
    "* 7 - other"
   ]
  },
  {
   "cell_type": "code",
   "execution_count": 3,
   "metadata": {},
   "outputs": [],
   "source": [
    "# These are the hand-labeled data\n",
    "data_txt = pd.read_csv('corr_diss_v0.txt', delimiter=',')\n",
    "corr_all = np.array(data_txt['correlation'])\n",
    "diss_all = np.array(data_txt['dissimilarity'])\n",
    "file_all = np.array(data_txt['file'])"
   ]
  },
  {
   "cell_type": "code",
   "execution_count": 4,
   "metadata": {},
   "outputs": [],
   "source": [
    "df = pd.read_csv('labels_final.csv')\n",
    "\n",
    "# Choose the first 1000 \n",
    "df['Dissimilarity'] = diss_all[0:1000]\n",
    "df['Correlation'] = corr_all[0:1000]\n",
    "\n",
    "# Get rid of anything labeled as anomalous\n",
    "df = df[df.label < 2]"
   ]
  },
  {
   "cell_type": "markdown",
   "metadata": {},
   "source": [
    "## Data Exploration\n",
    "\n"
   ]
  },
  {
   "cell_type": "code",
   "execution_count": 5,
   "metadata": {},
   "outputs": [
    {
     "data": {
      "text/plain": [
       "<seaborn.axisgrid.FacetGrid at 0x11cc45f60>"
      ]
     },
     "execution_count": 5,
     "metadata": {},
     "output_type": "execute_result"
    },
    {
     "data": {
      "image/png": "[encoded data removed]",
      "text/plain": [
       "<Figure size 360x360 with 1 Axes>"
      ]
     },
     "metadata": {
      "needs_background": "light"
     },
     "output_type": "display_data"
    }
   ],
   "source": [
    "# Plot of correlation vs dissimilarity \n",
    "sns.lmplot('Dissimilarity', 'Correlation', data=df, fit_reg=False)"
   ]
  },
  {
   "cell_type": "code",
   "execution_count": 6,
   "metadata": {},
   "outputs": [],
   "source": [
    "# Create input and output arrays\n",
    "y = np.array(df['label'])\n",
    "X = np.array(df[['Dissimilarity', 'Correlation']])"
   ]
  },
  {
   "cell_type": "code",
   "execution_count": 7,
   "metadata": {},
   "outputs": [],
   "source": [
    "# Split into training and testing sets. To change the size of the test set, change test_size.\n",
    "# test_size = 0.3 determined be experimenting with different sizes\n",
    "X_train, X_test, y_train, y_test = train_test_split(X, y, test_size=0.30)"
   ]
  },
  {
   "cell_type": "markdown",
   "metadata": {},
   "source": [
    "## Classifier Training and Fitting\n",
    "\n",
    "As a first pass at the problem, I used a Random Forest classifier. You can see more about random forest here: https://scikit-learn.org/stable/modules/generated/sklearn.ensemble.RandomForestClassifier.html"
   ]
  },
  {
   "cell_type": "code",
   "execution_count": 8,
   "metadata": {},
   "outputs": [],
   "source": [
    "# Plotting code for confusion matrix, adapted from sklearn plot_confusion_matrix function\n",
    "def plot_confusion_matrix(cm, classes,\n",
    "                          normalize=False,\n",
    "                          title='Confusion matrix',\n",
    "                          cmap=plt.cm.Blues):\n",
    "    \"\"\"\n",
    "    This function prints and plots the confusion matrix.\n",
    "    Normalization can be applied by setting `normalize=True`.\n",
    "    \"\"\"\n",
    "    plt.imshow(cm, interpolation='nearest', cmap=cmap)\n",
    "    plt.title(title)\n",
    "    tick_marks = np.arange(len(classes))\n",
    "    plt.xticks(tick_marks, classes, rotation=45)\n",
    "    plt.yticks(tick_marks, classes)\n",
    "\n",
    "    if normalize:\n",
    "        cm = cm.astype('float') / cm.sum(axis=1)[:, np.newaxis]\n",
    "        print(\"Normalized confusion matrix\")\n",
    "    else:\n",
    "        print('Confusion matrix, without normalization')\n",
    "\n",
    "    thresh = cm.max() / 2.\n",
    "    for i, j in itertools.product(range(cm.shape[0]), range(cm.shape[1])):\n",
    "        if normalize:\n",
    "            plt.text(j, i, \"{:.2f}\".format(cm[i, j]),\n",
    "                     horizontalalignment=\"center\",\n",
    "                     color=\"white\" if cm[i, j] > thresh else \"black\")\n",
    "        else:\n",
    "            plt.text(j, i, cm[i, j],\n",
    "                     horizontalalignment=\"center\",\n",
    "                     color=\"white\" if cm[i, j] > thresh else \"black\")\n",
    "\n",
    "    plt.tight_layout()\n",
    "    plt.ylabel('True label')\n",
    "    plt.xlabel('Predicted label')\n",
    "\n",
    "    # Compute confusion matrix\n",
    "    cnf_matrix = confusion_matrix(y_test, y_pred)\n",
    "    np.set_printoptions(precision=2)\n",
    "    plt.show()"
   ]
  },
  {
   "cell_type": "code",
   "execution_count": 9,
   "metadata": {},
   "outputs": [
    {
     "name": "stdout",
     "output_type": "stream",
     "text": [
      "Score:  0.921161825726141\n",
      "Confusion matrix:  [[214   3]\n",
      " [ 16   8]]\n",
      "Normalized confusion matrix\n"
     ]
    },
    {
     "data": {
      "image/png": "[encoded data removed]",
      "text/plain": [
       "<Figure size 432x288 with 1 Axes>"
      ]
     },
     "metadata": {
      "needs_background": "light"
     },
     "output_type": "display_data"
    }
   ],
   "source": [
    "# Train without addressing the class imbalance\n",
    "class_names = ['No GW', 'GW']\n",
    "clf = RandomForestClassifier()\n",
    "clf.fit(X_train, y_train)\n",
    "y_pred = clf.predict(X_test)\n",
    "print('Score: ', clf.score(X_test, y_test))\n",
    "cm = confusion_matrix(y_test, y_pred)\n",
    "print('Confusion matrix: ', cm)\n",
    "plot_confusion_matrix(cm, classes=class_names, normalize=True, \n",
    "                      title='Confusion matrix', cmap=plt.cm.Blues)"
   ]
  },
  {
   "cell_type": "markdown",
   "metadata": {},
   "source": [
    "## Class Imbalance\n",
    "\n",
    "Notice that without addressing the class imbalance, the \"score\" is very high, but the classifier is not actually doing well at classifying the few gravity wave images it has seen. We need to address the class imbalance so that the classifier can perform better on the minority class. To do this, I used SMOTE, which you can read more about here: https://imbalanced-learn.readthedocs.io/en/stable/generated/imblearn.over_sampling.SMOTE.html"
   ]
  },
  {
   "cell_type": "markdown",
   "metadata": {},
   "source": [
    "**Note**: Previously the following cell had performed SMOTE and train/test split in the wrong order, leading to an inflated score for the test set (because it was using resampled data). This error has been fixed, and now SMOTE is performed only on the training data, the testing data remain untouched."
   ]
  },
  {
   "cell_type": "code",
   "execution_count": 10,
   "metadata": {},
   "outputs": [],
   "source": [
    "sm = SMOTE()\n",
    "X_train, X_test, y_train, y_test = train_test_split(X, y, test_size=0.40, random_state=42)\n",
    "X_res, y_res = sm.fit_resample(X_train, y_train)"
   ]
  },
  {
   "cell_type": "code",
   "execution_count": 11,
   "metadata": {},
   "outputs": [
    {
     "name": "stdout",
     "output_type": "stream",
     "text": [
      "Score:  0.8598130841121495\n",
      "Confusion matrix:  [[254  34]\n",
      " [ 11  22]]\n",
      "Normalized confusion matrix\n"
     ]
    },
    {
     "data": {
      "image/png": "[encoded data removed]",
      "text/plain": [
       "<Figure size 432x288 with 1 Axes>"
      ]
     },
     "metadata": {
      "needs_background": "light"
     },
     "output_type": "display_data"
    }
   ],
   "source": [
    "# Train with addressing the class imbalance\n",
    "class_names = ['No GW', 'GW']\n",
    "clf = RandomForestClassifier()\n",
    "clf.fit(X_res, y_res)\n",
    "y_pred = clf.predict(X_test)\n",
    "print('Score: ', clf.score(X_test, y_test))\n",
    "cm = confusion_matrix(y_test, y_pred)\n",
    "print('Confusion matrix: ', cm)\n",
    "plot_confusion_matrix(cm, classes=class_names, normalize=True, \n",
    "                      title='Confusion matrix', cmap=plt.cm.Blues)"
   ]
  },
  {
   "cell_type": "markdown",
   "metadata": {},
   "source": [
    "## Improve the Classifier\n",
    "\n",
    "To improve the classification results, I used a bagging classifier with the base estimator set to a k-neighbors classifier. You can read more about bagging on the sklearn ensemble methods page: https://scikit-learn.org/stable/modules/ensemble.html"
   ]
  },
  {
   "cell_type": "code",
   "execution_count": 12,
   "metadata": {},
   "outputs": [
    {
     "name": "stdout",
     "output_type": "stream",
     "text": [
      "Score:  0.8598130841121495\n",
      "Confusion matrix:  [[240  48]\n",
      " [  4  29]]\n",
      "Normalized confusion matrix\n"
     ]
    },
    {
     "data": {
      "image/png": "[encoded data removed]",
      "text/plain": [
       "<Figure size 432x288 with 1 Axes>"
      ]
     },
     "metadata": {
      "needs_background": "light"
     },
     "output_type": "display_data"
    }
   ],
   "source": [
    "bagging = BaggingClassifier(KNeighborsClassifier(), max_samples=0.5, max_features=0.5)\n",
    "bagging.fit(X_res, y_res)\n",
    "y_pred = bagging.predict(X_test)\n",
    "print('Score: ', clf.score(X_test, y_test))\n",
    "cm = confusion_matrix(y_test, y_pred)\n",
    "print('Confusion matrix: ', cm)\n",
    "plot_confusion_matrix(cm, classes=class_names, normalize=True, \n",
    "                      title='Confusion matrix', cmap=plt.cm.Blues)"
   ]
  },
  {
   "cell_type": "markdown",
   "metadata": {},
   "source": [
    "## Inspect the Data"
   ]
  },
  {
   "cell_type": "code",
   "execution_count": 13,
   "metadata": {},
   "outputs": [],
   "source": [
    "# You can change this filter to look at whatever data you find interesting\n",
    "filt = df[(df['Correlation'] > 0.875) & (df['Dissimilarity'] > 18)].index"
   ]
  },
  {
   "cell_type": "code",
   "execution_count": 14,
   "metadata": {},
   "outputs": [
    {
     "data": {
      "application/vnd.jupyter.widget-view+json": {
       "model_id": "06f354ac938048ed965ab937639e5da6",
       "version_major": 2,
       "version_minor": 0
      },
      "text/plain": [
       "interactive(children=(Dropdown(description='index', options=(37, 80, 124, 188, 225, 296, 320, 352, 493, 494, 5…"
      ]
     },
     "metadata": {},
     "output_type": "display_data"
    }
   ],
   "source": [
    "# This interactive plot will show you the images that match the filter above\n",
    "@interact\n",
    "def show_images(index = np.array(filt)):\n",
    "    print(df['filename'][index])\n",
    "    print('Correlation: ', df['Correlation'][index])\n",
    "    print('Dissimilarity: ', df['Dissimilarity'][index])\n",
    "    im = imageio.imread(df['filename'][index])\n",
    "    plt.imshow(im, cmap=plt.cm.gray)"
   ]
  },
  {
   "cell_type": "code",
   "execution_count": null,
   "metadata": {},
   "outputs": [],
   "source": []
  }
 ],
 "metadata": {
  "kernelspec": {
   "display_name": "Python 3",
   "language": "python",
   "name": "python3"
  },
  "language_info": {
   "codemirror_mode": {
    "name": "ipython",
    "version": 3
   },
   "file_extension": ".py",
   "mimetype": "text/x-python",
   "name": "python",
   "nbconvert_exporter": "python",
   "pygments_lexer": "ipython3",
   "version": "3.6.6"
  }
 },
 "nbformat": 4,
 "nbformat_minor": 2
}

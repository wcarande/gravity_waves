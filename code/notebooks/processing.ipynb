{
 "cells": [
  {
   "cell_type": "code",
   "execution_count": 1,
   "metadata": {},
   "outputs": [],
   "source": [
    "import numpy as np\n",
    "import os\n",
    "import imageio\n",
    "import skimage\n",
    "\n",
    "from skimage.feature import greycomatrix, greycoprops\n",
    "from skimage.color import rgb2gray\n",
    "from datetime import datetime"
   ]
  },
  {
   "cell_type": "code",
   "execution_count": 2,
   "metadata": {},
   "outputs": [],
   "source": [
    "image_path = '../../data/north_2016/l2a/scene_images/'\n",
    "image_list = [os.path.join(image_path, f) for f in os.listdir(image_path)]"
   ]
  },
  {
   "cell_type": "code",
   "execution_count": 3,
   "metadata": {},
   "outputs": [
    {
     "name": "stderr",
     "output_type": "stream",
     "text": [
      "/Users/weha7252/anaconda2/envs/beads/lib/python3.6/site-packages/skimage/util/dtype.py:135: UserWarning: Possible precision loss when converting from float64 to uint8\n",
      "  .format(dtypeobj_in, dtypeobj_out))\n"
     ]
    }
   ],
   "source": [
    "diss_all = []\n",
    "corr_all = []\n",
    "file_all = []\n",
    "\n",
    "# Calculate dissimilarity and correlation for all images\n",
    "for image_file in image_list:\n",
    "    im = imageio.imread(image_file)\n",
    "    img_gr = rgb2gray(im)\n",
    "    img_gr_ub = skimage.img_as_ubyte(img_gr)\n",
    "    glcm = skimage.feature.greycomatrix(img_gr_ub, [7], [0])\n",
    "    diss = greycoprops(glcm, 'dissimilarity')[0, 0]\n",
    "    corr = greycoprops(glcm, 'correlation')[0, 0]\n",
    "    diss_all.append(diss)\n",
    "    corr_all.append(corr)\n",
    "    file_all.append(image_file)\n",
    "\n",
    "diss_all = np.array(diss_all)\n",
    "corr_all = np.array(corr_all)\n",
    "file_all = np.array(file_all)"
   ]
  },
  {
   "cell_type": "code",
   "execution_count": 4,
   "metadata": {},
   "outputs": [],
   "source": [
    "data_arr = np.column_stack((corr_all, diss_all, file_all))"
   ]
  },
  {
   "cell_type": "code",
   "execution_count": 5,
   "metadata": {},
   "outputs": [
    {
     "name": "stdout",
     "output_type": "stream",
     "text": [
      "Saving output file:  corr_diss-20191204-215233.txt\n"
     ]
    }
   ],
   "source": [
    "# Save the file\n",
    "filename = 'corr_diss-'+datetime.now().strftime(\"%Y%m%d-%H%M%S\")+'.txt'\n",
    "assert os.path.exists(filename) is False, 'Output file already exists'\n",
    "print('Saving output file: ', filename)\n",
    "np.savetxt(filename, data_arr, delimiter= ',', header = 'correlation,dissimilarity,file', fmt='%s')"
   ]
  }
 ],
 "metadata": {
  "kernelspec": {
   "display_name": "Python 3",
   "language": "python",
   "name": "python3"
  },
  "language_info": {
   "codemirror_mode": {
    "name": "ipython",
    "version": 3
   },
   "file_extension": ".py",
   "mimetype": "text/x-python",
   "name": "python",
   "nbconvert_exporter": "python",
   "pygments_lexer": "ipython3",
   "version": "3.6.6"
  }
 },
 "nbformat": 4,
 "nbformat_minor": 2
}
